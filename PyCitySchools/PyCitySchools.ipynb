{
 "cells": [
  {
   "cell_type": "code",
   "execution_count": null,
   "metadata": {},
   "outputs": [],
   "source": [
    "import pandas as pd\n",
    "from pathlib import Path\n",
    "\n",
    "schooldata = Path(\".\", \"\\Pandas-challenge\\PyCitySchools\\PyCitySchools.ipynb\")\n",
    "studentdata = Path()\n",
    "\n",
    "school_data = pd.read_csv(schooldata)\n",
    "student_data = pd.read_csv(studentdata)\n",
    "\n",
    "schooldata_complete = pd.merge(student_data, school_data, how=\"left\", on=[\"school_name\", \"school_name\"])\n",
    "schooldata_complete.head()\n"
   ]
  }
 ],
 "metadata": {
  "language_info": {
   "name": "python"
  },
  "orig_nbformat": 4
 },
 "nbformat": 4,
 "nbformat_minor": 2
}
